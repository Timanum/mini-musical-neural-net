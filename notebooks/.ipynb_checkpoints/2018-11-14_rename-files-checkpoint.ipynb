{
 "cells": [
  {
   "cell_type": "code",
   "execution_count": 3,
   "metadata": {},
   "outputs": [],
   "source": [
    "import os, glob\n",
    "import pandas as pd\n",
    "import matplotlib.pyplot as plt\n",
    "import numpy as np"
   ]
  },
  {
   "cell_type": "code",
   "execution_count": 49,
   "metadata": {},
   "outputs": [],
   "source": [
    "folder = '../training_output/run01_2018-11-14/samples/*.txt'"
   ]
  },
  {
   "cell_type": "code",
   "execution_count": 65,
   "metadata": {},
   "outputs": [],
   "source": [
    "for file in glob.glob(folder):\n",
    "    if \"batch0.txt\" in file:\n",
    "#         print(file[:-4] + '00.txt')\n",
    "        pass\n",
    "#         os.rename(file, file[:-4]+'00.txt')\n",
    "    else:\n",
    "        if len(file) == 69:\n",
    "#             print(file[:-14] + '00' + file [-14:])\n",
    "            pass\n",
    "#             os.rename(file, file[:-14] + '00' + file [-14:])\n",
    "        elif len(file) == 70:\n",
    "#             print(file[:-15] + '0' + file [-15:])\n",
    "            pass\n",
    "#             os.rename(file, file[:-15] + '0' + file [-15:])\n",
    "        elif len(file) == 71:\n",
    "            pass\n",
    "        else:\n",
    "            pass\n",
    "#             print(file)"
   ]
  },
  {
   "cell_type": "code",
   "execution_count": 66,
   "metadata": {},
   "outputs": [],
   "source": [
    "# check\n",
    "for file in glob.glob(folder):\n",
    "    if len(file) != 71:\n",
    "        print(file)"
   ]
  },
  {
   "cell_type": "code",
   "execution_count": null,
   "metadata": {},
   "outputs": [],
   "source": []
  }
 ],
 "metadata": {
  "kernelspec": {
   "display_name": "Python 3",
   "language": "python",
   "name": "python3"
  },
  "language_info": {
   "codemirror_mode": {
    "name": "ipython",
    "version": 3
   },
   "file_extension": ".py",
   "mimetype": "text/x-python",
   "name": "python",
   "nbconvert_exporter": "python",
   "pygments_lexer": "ipython3",
   "version": "3.6.5"
  }
 },
 "nbformat": 4,
 "nbformat_minor": 2
}
