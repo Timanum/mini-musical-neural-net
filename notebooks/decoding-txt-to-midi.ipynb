{
 "cells": [
  {
   "cell_type": "markdown",
   "metadata": {},
   "source": [
    "# Decoding a text file from note-wise and chord-wise to midi file\n",
    "***"
   ]
  },
  {
   "cell_type": "code",
   "execution_count": 1,
   "metadata": {},
   "outputs": [],
   "source": [
    "import os\n",
    "import dill as pickle\n",
    "from pathlib import Path\n",
    "import random\n",
    "import numpy as np\n",
    "import pandas as pd\n",
    "from math import floor\n",
    "from pyknon.genmidi import Midi\n",
    "from pyknon.music import NoteSeq, Note\n",
    "import music21\n",
    "import random"
   ]
  },
  {
   "cell_type": "markdown",
   "metadata": {},
   "source": [
    "## Load txt file as string (for both Chordwise and Notewise)\n",
    "***"
   ]
  },
  {
   "cell_type": "code",
   "execution_count": 2,
   "metadata": {},
   "outputs": [
    {
     "data": {
      "text/plain": [
       "(1832447, 150330)"
      ]
     },
     "execution_count": 2,
     "metadata": {},
     "output_type": "execute_result"
    }
   ],
   "source": [
    "# default settings: sample_freq=12, note_range=62\n",
    "\n",
    "chordtxt = '../txt-files/chordwise/note_range62/sample_freq12/sonat-1.txt'\n",
    "notetxt = '../txt-files/notewise/note_range62/sample_freq12/sonat-1.txt'\n",
    "\n",
    "with open(chordtxt, 'r') as file:\n",
    "    chordstring=file.read()\n",
    "    \n",
    "with open(notetxt, 'r') as file:\n",
    "    notestring=file.read()\n",
    "    \n",
    "len(chordstring), len(notestring)   # (382079, 126877) for sonat-1"
   ]
  },
  {
   "cell_type": "markdown",
   "metadata": {},
   "source": [
    "## Convert string into list of strings (for both Chordwise and Notewise)\n",
    "\n",
    "Using the first part of function:  \n",
    "**string_inds_to_stream(string, sample_freq, note_offset, chordwise)**\n",
    "***"
   ]
  },
  {
   "cell_type": "code",
   "execution_count": 3,
   "metadata": {},
   "outputs": [],
   "source": [
    "score_chord = chordstring.split(\" \")\n",
    "score_note = notestring.split(\" \")"
   ]
  },
  {
   "cell_type": "markdown",
   "metadata": {},
   "source": [
    "## Convert list of Chordwise strings into array\n",
    "Using the function:  \n",
    "**arrToStreamChordwise(score, sample_freq, note_offset)**\n",
    "***"
   ]
  },
  {
   "cell_type": "code",
   "execution_count": 4,
   "metadata": {},
   "outputs": [
    {
     "data": {
      "text/plain": [
       "<music21.stream.Stream 0xa16ce5ac8>"
      ]
     },
     "execution_count": 4,
     "metadata": {},
     "output_type": "execute_result"
    }
   ],
   "source": [
    "# define some parameters (from encoding script)\n",
    "sample_freq=12\n",
    "note_range=62\n",
    "note_offset=33\n",
    "chamber=0\n",
    "numInstruments=1\n",
    "\n",
    "# define variables and lists needed for chord decoding\n",
    "speed = 1./sample_freq\n",
    "piano_notes=[]\n",
    "violin_notes=[]\n",
    "time_offset=0\n",
    "\n",
    "# start decoding here\n",
    "score = score_chord\n",
    "\n",
    "# loop through every timestep / chord\n",
    "for i in range(len(score)):\n",
    "    # skip empty lists\n",
    "    if len(score[i])==0:\n",
    "        continue\n",
    "    \n",
    "    # skip idx 0 as it indicates instruments\n",
    "    for j in range(1,len(score[i])):\n",
    "        \n",
    "        # if the note is played, append note to list\n",
    "        if score[i][j]==\"1\":\n",
    "            duration=2\n",
    "            \n",
    "            # create music21 note object\n",
    "            new_note = music21.note.Note(j+note_offset)\n",
    "            \n",
    "            # add duration to note object\n",
    "            new_note.duration = music21.duration.Duration(duration*speed)\n",
    "\n",
    "            # add timestamp (time offset) to note object\n",
    "            new_note.offset = (i+time_offset)*speed\n",
    "            \n",
    "            # append note to respective instruments\n",
    "            if score[i][0] == 'p':\n",
    "                piano_notes.append(new_note)\n",
    "            elif score[i][0] == 'v':\n",
    "                violin_notes.append(new_note)\n",
    "    \n",
    "# list of all notes for each instrument should be ready at this stage\n",
    "\n",
    "# creating music21 instrument objects\n",
    "violin = music21.instrument.fromString(\"Violin\")\n",
    "piano = music21.instrument.fromString(\"Piano\")\n",
    "\n",
    "# insert instrument object to start (0 index) of notes list\n",
    "violin_notes.insert(0, violin)\n",
    "piano_notes.insert(0, piano)\n",
    "\n",
    "# create music21 stream object for individual instruments\n",
    "violin_stream = music21.stream.Stream(violin_notes)\n",
    "piano_stream = music21.stream.Stream(piano_notes)\n",
    "\n",
    "# merge both stream objects into a single stream of 2 instruments\n",
    "chord_stream = music21.stream.Stream([violin_stream, piano_stream])\n",
    "\n",
    "chord_stream"
   ]
  },
  {
   "cell_type": "markdown",
   "metadata": {},
   "source": [
    "## Convert list of Notewise strings into array\n",
    "***"
   ]
  },
  {
   "cell_type": "code",
   "execution_count": 5,
   "metadata": {},
   "outputs": [
    {
     "data": {
      "text/plain": [
       "<music21.stream.Stream 0xa1813abe0>"
      ]
     },
     "execution_count": 5,
     "metadata": {},
     "output_type": "execute_result"
    }
   ],
   "source": [
    "# define some parameters (from encoding script)\n",
    "sample_freq=12\n",
    "note_range=62\n",
    "note_offset=33\n",
    "chamber=0\n",
    "numInstruments=1\n",
    "\n",
    "# define variables and lists needed for chord decoding\n",
    "speed=1./sample_freq\n",
    "piano_notes=[]\n",
    "violin_notes=[]\n",
    "time_offset=0\n",
    "\n",
    "# start decoding here\n",
    "score = score_note\n",
    "\n",
    "i=0\n",
    "\n",
    "# for outlier cases, not seen in sonat-1.txt\n",
    "# not exactly sure what scores would have \"p_octave_\" or \"eoc\" (end of chord?)\n",
    "# it seems to insert new notes to the score whenever these conditions are met\n",
    "while i<len(score):\n",
    "    if score[i][:9]==\"p_octave_\":\n",
    "        add_wait=\"\"\n",
    "        if score[i][-3:]==\"eoc\":\n",
    "            add_wait=\"eoc\"\n",
    "            score[i]=score[i][:-3]\n",
    "        this_note=score[i][9:]\n",
    "        score[i]=\"p\"+this_note\n",
    "        score.insert(i+1, \"p\"+str(int(this_note)+12)+add_wait)\n",
    "        i+=1\n",
    "    i+=1\n",
    "\n",
    "    \n",
    "# loop through every event in the score\n",
    "for i in range(len(score)):\n",
    "    \n",
    "    # if the event is a blank, space, \"eos\" or unknown, skip and go to next event\n",
    "    if score[i] in [\"\", \" \", \"<eos>\", \"<unk>\"]:\n",
    "        continue\n",
    "        \n",
    "    # if the event starts with 'end' indicating an end of note\n",
    "    elif score[i][:3]==\"end\":\n",
    "        \n",
    "        # if the event additionally ends with eoc, increare the time offset by 1\n",
    "        if score[i][-3:]==\"eoc\":\n",
    "            time_offset+=1\n",
    "        continue\n",
    "        \n",
    "    # if the event is wait, increase the timestamp by the number after the \"wait\"\n",
    "    elif score[i][:4]==\"wait\":\n",
    "        time_offset+=int(score[i][4:])\n",
    "        continue\n",
    "        \n",
    "    # in this block, we are looking for notes   \n",
    "    else:\n",
    "        # Look ahead to see if an end<noteid> was generated\n",
    "        # soon after.  \n",
    "        duration=1\n",
    "        has_end=False\n",
    "        note_string_len = len(score[i])\n",
    "        for j in range(1,200):\n",
    "            if i+j==len(score):\n",
    "                break\n",
    "            if score[i+j][:4]==\"wait\":\n",
    "                duration+=int(score[i+j][4:])\n",
    "            if score[i+j][:3+note_string_len]==\"end\"+score[i] or score[i+j][:note_string_len]==score[i]:\n",
    "                has_end=True\n",
    "                break\n",
    "            if score[i+j][-3:]==\"eoc\":\n",
    "                duration+=1\n",
    "\n",
    "        if not has_end:\n",
    "            duration=12\n",
    "\n",
    "        add_wait = 0\n",
    "        if score[i][-3:]==\"eoc\":\n",
    "            score[i]=score[i][:-3]\n",
    "            add_wait = 1\n",
    "\n",
    "        try: \n",
    "            new_note=music21.note.Note(int(score[i][1:])+note_offset)    \n",
    "            new_note.duration = music21.duration.Duration(duration*speed)\n",
    "            new_note.offset=time_offset*speed\n",
    "            if score[i][0]==\"v\":\n",
    "                violin_notes.append(new_note)\n",
    "            else:\n",
    "                piano_notes.append(new_note)                \n",
    "        except:\n",
    "            print(\"Unknown note: \" + score[i])\n",
    "\n",
    "\n",
    "\n",
    "\n",
    "        time_offset+=add_wait\n",
    "\n",
    "# list of all notes for each instrument should be ready at this stage\n",
    "        \n",
    "# creating music21 instrument objects      \n",
    "violin=music21.instrument.fromString(\"Violin\")\n",
    "piano=music21.instrument.fromString(\"Piano\")\n",
    "\n",
    "# insert instrument object to start (0 index) of notes list\n",
    "violin_notes.insert(0, violin)\n",
    "piano_notes.insert(0, piano)\n",
    "\n",
    "# create music21 stream object for individual instruments\n",
    "violin_stream=music21.stream.Stream(violin_notes)\n",
    "piano_stream=music21.stream.Stream(piano_notes)\n",
    "\n",
    "# merge both stream objects into a single stream of 2 instruments\n",
    "note_stream = music21.stream.Stream([violin_stream, piano_stream])\n",
    "\n",
    "note_stream"
   ]
  },
  {
   "cell_type": "markdown",
   "metadata": {},
   "source": [
    "## Write midi file from music21 stream object\n",
    "***"
   ]
  },
  {
   "cell_type": "code",
   "execution_count": 10,
   "metadata": {},
   "outputs": [
    {
     "data": {
      "text/plain": [
       "'output-midi-files/notewise/note_range62/sample_freq12/sonat-1.mid'"
      ]
     },
     "execution_count": 10,
     "metadata": {},
     "output_type": "execute_result"
    }
   ],
   "source": [
    "chordname = chordtxt[47:-4]\n",
    "chord_stream.write('midi', fp=\"../output-midi-files/chordwise/note_range62/sample_freq12/\"+chordname+\".mid\")\n",
    "\n",
    "notename = notetxt[46:-4]\n",
    "note_stream.write('midi', fp=\"../output-midi-files/notewise/note_range62/sample_freq12/\"+notename+\".mid\")"
   ]
  },
  {
   "cell_type": "code",
   "execution_count": null,
   "metadata": {},
   "outputs": [],
   "source": []
  }
 ],
 "metadata": {
  "kernelspec": {
   "display_name": "Python 3",
   "language": "python",
   "name": "python3"
  },
  "language_info": {
   "codemirror_mode": {
    "name": "ipython",
    "version": 3
   },
   "file_extension": ".py",
   "mimetype": "text/x-python",
   "name": "python",
   "nbconvert_exporter": "python",
   "pygments_lexer": "ipython3",
   "version": "3.6.5"
  }
 },
 "nbformat": 4,
 "nbformat_minor": 2
}
